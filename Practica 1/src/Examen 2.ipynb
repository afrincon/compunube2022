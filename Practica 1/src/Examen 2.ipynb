{
 "cells": [
  {
   "cell_type": "markdown",
   "metadata": {},
   "source": [
    "## Linear regression example\n",
    "\n",
    "# Dataset: Yacht Hydrodynamics Data Set\n",
    "\n",
    "Attribute Information:\n",
    "\n",
    "Variations concern hull geometry coefficients and the Froude number:\n",
    "\n",
    "1. Longitudinal position of the center of buoyancy, adimensional.\n",
    "2. Prismatic coefficient, adimensional.\n",
    "3. Length-displacement ratio, adimensional.\n",
    "4. Beam-draught ratio, adimensional.\n",
    "5. Length-beam ratio, adimensional.\n",
    "6. Froude number, adimensional.\n",
    "\n",
    "The measured variable is the residuary resistance per unit weight of displacement:\n",
    "\n",
    "7. Residuary resistance per unit weight of displacement, adimensional."
   ]
  },
  {
   "cell_type": "code",
   "execution_count": 1,
   "metadata": {},
   "outputs": [],
   "source": [
    "import pandas as pd\n",
    "import numpy as np"
   ]
  },
  {
   "cell_type": "code",
   "execution_count": 32,
   "metadata": {},
   "outputs": [
    {
     "data": {
      "text/html": [
       "<div>\n",
       "<style scoped>\n",
       "    .dataframe tbody tr th:only-of-type {\n",
       "        vertical-align: middle;\n",
       "    }\n",
       "\n",
       "    .dataframe tbody tr th {\n",
       "        vertical-align: top;\n",
       "    }\n",
       "\n",
       "    .dataframe thead th {\n",
       "        text-align: right;\n",
       "    }\n",
       "</style>\n",
       "<table border=\"1\" class=\"dataframe\">\n",
       "  <thead>\n",
       "    <tr style=\"text-align: right;\">\n",
       "      <th></th>\n",
       "      <th>LP</th>\n",
       "      <th>PC</th>\n",
       "      <th>LDR</th>\n",
       "      <th>BDR</th>\n",
       "      <th>LBR</th>\n",
       "      <th>FN</th>\n",
       "      <th>RR</th>\n",
       "    </tr>\n",
       "  </thead>\n",
       "  <tbody>\n",
       "    <tr>\n",
       "      <th>303</th>\n",
       "      <td>-2.3</td>\n",
       "      <td>0.6</td>\n",
       "      <td>4.34</td>\n",
       "      <td>4.23</td>\n",
       "      <td>2.73</td>\n",
       "      <td>0.350</td>\n",
       "      <td>8.47</td>\n",
       "    </tr>\n",
       "    <tr>\n",
       "      <th>304</th>\n",
       "      <td>-2.3</td>\n",
       "      <td>0.6</td>\n",
       "      <td>4.34</td>\n",
       "      <td>4.23</td>\n",
       "      <td>2.73</td>\n",
       "      <td>0.375</td>\n",
       "      <td>12.27</td>\n",
       "    </tr>\n",
       "    <tr>\n",
       "      <th>305</th>\n",
       "      <td>-2.3</td>\n",
       "      <td>0.6</td>\n",
       "      <td>4.34</td>\n",
       "      <td>4.23</td>\n",
       "      <td>2.73</td>\n",
       "      <td>0.400</td>\n",
       "      <td>19.59</td>\n",
       "    </tr>\n",
       "    <tr>\n",
       "      <th>306</th>\n",
       "      <td>-2.3</td>\n",
       "      <td>0.6</td>\n",
       "      <td>4.34</td>\n",
       "      <td>4.23</td>\n",
       "      <td>2.73</td>\n",
       "      <td>0.425</td>\n",
       "      <td>30.48</td>\n",
       "    </tr>\n",
       "    <tr>\n",
       "      <th>307</th>\n",
       "      <td>-2.3</td>\n",
       "      <td>0.6</td>\n",
       "      <td>4.34</td>\n",
       "      <td>4.23</td>\n",
       "      <td>2.73</td>\n",
       "      <td>0.450</td>\n",
       "      <td>46.66</td>\n",
       "    </tr>\n",
       "  </tbody>\n",
       "</table>\n",
       "</div>"
      ],
      "text/plain": [
       "      LP   PC   LDR   BDR   LBR     FN     RR\n",
       "303 -2.3  0.6  4.34  4.23  2.73  0.350   8.47\n",
       "304 -2.3  0.6  4.34  4.23  2.73  0.375  12.27\n",
       "305 -2.3  0.6  4.34  4.23  2.73  0.400  19.59\n",
       "306 -2.3  0.6  4.34  4.23  2.73  0.425  30.48\n",
       "307 -2.3  0.6  4.34  4.23  2.73  0.450  46.66"
      ]
     },
     "execution_count": 32,
     "metadata": {},
     "output_type": "execute_result"
    }
   ],
   "source": [
    "df = pd.read_csv(\n",
    "  'https://archive.ics.uci.edu/ml/machine-learning-databases/00243/yacht_hydrodynamics.data',\n",
    "  header=None,\n",
    "  delim_whitespace=True\n",
    "  )\n",
    "\n",
    "df.columns = ['LP', 'PC', 'LDR', 'BDR', 'LBR', 'FN', 'RR']\n",
    "df.tail()"
   ]
  },
  {
   "cell_type": "code",
   "execution_count": 33,
   "metadata": {},
   "outputs": [
    {
     "name": "stdout",
     "output_type": "stream",
     "text": [
      "<class 'pandas.core.frame.DataFrame'>\n",
      "RangeIndex: 308 entries, 0 to 307\n",
      "Data columns (total 7 columns):\n",
      " #   Column  Non-Null Count  Dtype  \n",
      "---  ------  --------------  -----  \n",
      " 0   LP      308 non-null    float64\n",
      " 1   PC      308 non-null    float64\n",
      " 2   LDR     308 non-null    float64\n",
      " 3   BDR     308 non-null    float64\n",
      " 4   LBR     308 non-null    float64\n",
      " 5   FN      308 non-null    float64\n",
      " 6   RR      308 non-null    float64\n",
      "dtypes: float64(7)\n",
      "memory usage: 17.0 KB\n"
     ]
    },
    {
     "data": {
      "text/plain": [
       "(308, 7)"
      ]
     },
     "execution_count": 33,
     "metadata": {},
     "output_type": "execute_result"
    }
   ],
   "source": [
    "df.info()\n",
    "df.describe()\n",
    "df.dropna()\n",
    "df.shape"
   ]
  },
  {
   "cell_type": "code",
   "execution_count": 34,
   "metadata": {},
   "outputs": [],
   "source": [
    "from sklearn import preprocessing"
   ]
  },
  {
   "cell_type": "code",
   "execution_count": 35,
   "metadata": {},
   "outputs": [
    {
     "data": {
      "text/html": [
       "<div>\n",
       "<style scoped>\n",
       "    .dataframe tbody tr th:only-of-type {\n",
       "        vertical-align: middle;\n",
       "    }\n",
       "\n",
       "    .dataframe tbody tr th {\n",
       "        vertical-align: top;\n",
       "    }\n",
       "\n",
       "    .dataframe thead th {\n",
       "        text-align: right;\n",
       "    }\n",
       "</style>\n",
       "<table border=\"1\" class=\"dataframe\">\n",
       "  <thead>\n",
       "    <tr style=\"text-align: right;\">\n",
       "      <th></th>\n",
       "      <th>LP</th>\n",
       "      <th>PC</th>\n",
       "      <th>LDR</th>\n",
       "      <th>BDR</th>\n",
       "      <th>LBR</th>\n",
       "      <th>FN</th>\n",
       "      <th>RR</th>\n",
       "    </tr>\n",
       "  </thead>\n",
       "  <tbody>\n",
       "    <tr>\n",
       "      <th>0</th>\n",
       "      <td>-0.46</td>\n",
       "      <td>0.9467</td>\n",
       "      <td>0.93</td>\n",
       "      <td>0.7458</td>\n",
       "      <td>0.8709</td>\n",
       "      <td>0.2778</td>\n",
       "      <td>0.0018</td>\n",
       "    </tr>\n",
       "    <tr>\n",
       "      <th>1</th>\n",
       "      <td>-0.46</td>\n",
       "      <td>0.9467</td>\n",
       "      <td>0.93</td>\n",
       "      <td>0.7458</td>\n",
       "      <td>0.8709</td>\n",
       "      <td>0.3333</td>\n",
       "      <td>0.0043</td>\n",
       "    </tr>\n",
       "    <tr>\n",
       "      <th>2</th>\n",
       "      <td>-0.46</td>\n",
       "      <td>0.9467</td>\n",
       "      <td>0.93</td>\n",
       "      <td>0.7458</td>\n",
       "      <td>0.8709</td>\n",
       "      <td>0.3889</td>\n",
       "      <td>0.0075</td>\n",
       "    </tr>\n",
       "  </tbody>\n",
       "</table>\n",
       "</div>"
      ],
      "text/plain": [
       "     LP      PC   LDR     BDR     LBR      FN      RR\n",
       "0 -0.46  0.9467  0.93  0.7458  0.8709  0.2778  0.0018\n",
       "1 -0.46  0.9467  0.93  0.7458  0.8709  0.3333  0.0043\n",
       "2 -0.46  0.9467  0.93  0.7458  0.8709  0.3889  0.0075"
      ]
     },
     "execution_count": 35,
     "metadata": {},
     "output_type": "execute_result"
    }
   ],
   "source": [
    "from sklearn.preprocessing import MaxAbsScaler\n",
    "input_data_scaled_df = df.copy()\n",
    "scaler = MaxAbsScaler()\n",
    "input_data_scaled = scaler.fit_transform(df)\n",
    "input_data_scaled_df.loc[:,:] = input_data_scaled\n",
    "scaler_params = scaler.get_params()\n",
    "# We are dealing with physics here, hence we need the unscaled values\n",
    "extract_scaling_function = np.ones((1,input_data_scaled_df.shape[1]))\n",
    "extract_scaling_function = scaler.inverse_transform(extract_scaling_function)\n",
    "input_data_scaled_df.head(3)"
   ]
  },
  {
   "cell_type": "code",
   "execution_count": 36,
   "metadata": {},
   "outputs": [
    {
     "data": {
      "image/png": "[encoded data removed]",
      "text/plain": [
       "<Figure size 576x576 with 20 Axes>"
      ]
     },
     "metadata": {},
     "output_type": "display_data"
    }
   ],
   "source": [
    "import matplotlib.pyplot as plt\n",
    "import seaborn as sns\n",
    "cols = ['LP', 'PC', 'FN', 'RR']\n",
    "sns.pairplot(df[cols], height=2)\n",
    "plt.tight_layout()\n",
    "plt.show()"
   ]
  },
  {
   "cell_type": "code",
   "execution_count": 37,
   "metadata": {},
   "outputs": [
    {
     "data": {
      "image/png": "[encoded data removed]",
      "text/plain": [
       "<Figure size 432x288 with 2 Axes>"
      ]
     },
     "metadata": {},
     "output_type": "display_data"
    }
   ],
   "source": [
    "import numpy as np\n",
    "cm = np.corrcoef(df[cols].values.T)\n",
    "sns.set(font_scale=1)\n",
    "hm = sns.heatmap(cm, cbar=True, annot=True, square=True, fmt='.2f',\n",
    "                 annot_kws={'size': 10},yticklabels=cols, xticklabels=cols)\n",
    "plt.show()"
   ]
  },
  {
   "cell_type": "code",
   "execution_count": 38,
   "metadata": {},
   "outputs": [
    {
     "name": "stdout",
     "output_type": "stream",
     "text": [
      "(308,)\n",
      "(308,)\n",
      "(308,)\n",
      "(308,)\n"
     ]
    }
   ],
   "source": [
    "LP = df.iloc[:, 0].values\n",
    "#ZN = ZN.reshape(506,1)\n",
    "print(LP.shape)\n",
    "\n",
    "PC = df.iloc[:, 1].values\n",
    "#RM = RM.reshape(506,1)\n",
    "print(PC.shape)\n",
    "\n",
    "FN = df.iloc[:, 2].values\n",
    "#B = B.reshape(506,1)\n",
    "print(FN.shape)\n",
    "\n",
    "RR = df.iloc[:, 3].values\n",
    "#MEDV = MEDV.reshape(506,1)\n",
    "print(RR.shape)"
   ]
  },
  {
   "cell_type": "code",
   "execution_count": 39,
   "metadata": {},
   "outputs": [
    {
     "name": "stdout",
     "output_type": "stream",
     "text": [
      "[[-2.3    0.568  4.78   3.99 ]\n",
      " [-2.3    0.568  4.78   3.99 ]\n",
      " [-2.3    0.568  4.78   3.99 ]\n",
      " [-2.3    0.568  4.78   3.99 ]\n",
      " [-2.3    0.568  4.78   3.99 ]]\n"
     ]
    }
   ],
   "source": [
    "new_dataset = np.zeros((308,4))\n",
    "new_dataset[:, 0] = LP\n",
    "new_dataset[:, 1] = PC\n",
    "new_dataset[:, 2] = FN\n",
    "new_dataset[:, 3] = RR\n",
    "print(new_dataset[:5,:])"
   ]
  },
  {
   "cell_type": "code",
   "execution_count": 12,
   "metadata": {},
   "outputs": [
    {
     "name": "stdout",
     "output_type": "stream",
     "text": [
      "[[-2.3    0.568  4.78 ]\n",
      " [-2.3    0.568  4.78 ]\n",
      " [-2.3    0.568  4.78 ]\n",
      " [-2.3    0.568  4.78 ]\n",
      " [-2.3    0.568  4.78 ]]\n"
     ]
    }
   ],
   "source": [
    "x_train = new_dataset[0:275, 0:3]\n",
    "print(x_train[0:5, :])"
   ]
  },
  {
   "cell_type": "code",
   "execution_count": 40,
   "metadata": {},
   "outputs": [
    {
     "name": "stdout",
     "output_type": "stream",
     "text": [
      "[[3.99]\n",
      " [3.99]\n",
      " [3.99]\n",
      " [3.99]\n",
      " [3.99]]\n"
     ]
    }
   ],
   "source": [
    "y_train = new_dataset[0:275,3]\n",
    "y_train = y_train.reshape(275,1)\n",
    "print(y_train[0:5,:])"
   ]
  },
  {
   "cell_type": "code",
   "execution_count": 41,
   "metadata": {},
   "outputs": [
    {
     "name": "stdout",
     "output_type": "stream",
     "text": [
      "[[-5.    0.53  4.78]\n",
      " [-5.    0.53  4.78]\n",
      " [-5.    0.53  4.78]\n",
      " [-5.    0.53  4.78]\n",
      " [-5.    0.53  4.78]]\n"
     ]
    }
   ],
   "source": [
    "x_test = new_dataset[275:, 0:3]\n",
    "print(x_test[0:5, :])"
   ]
  },
  {
   "cell_type": "code",
   "execution_count": 42,
   "metadata": {},
   "outputs": [
    {
     "name": "stdout",
     "output_type": "stream",
     "text": [
      "[[3.75]\n",
      " [3.75]\n",
      " [3.75]\n",
      " [3.75]\n",
      " [3.75]]\n"
     ]
    }
   ],
   "source": [
    "y_test = new_dataset[275:,3]\n",
    "y_test = y_test.reshape(33,1)\n",
    "print(y_test[0:5,:])"
   ]
  },
  {
   "cell_type": "code",
   "execution_count": 43,
   "metadata": {},
   "outputs": [
    {
     "name": "stdout",
     "output_type": "stream",
     "text": [
      "[[ 1.    -2.3    0.568  4.78 ]\n",
      " [ 1.    -2.3    0.568  4.78 ]\n",
      " [ 1.    -2.3    0.568  4.78 ]\n",
      " [ 1.    -2.3    0.568  4.78 ]\n",
      " [ 1.    -2.3    0.568  4.78 ]]\n"
     ]
    }
   ],
   "source": [
    "# matriz X\n",
    "x = np.ones((275,4))\n",
    "x[:,1:] = x_train\n",
    "print(x[0:5, :])"
   ]
  },
  {
   "cell_type": "code",
   "execution_count": 44,
   "metadata": {},
   "outputs": [],
   "source": [
    "# matriz y\n",
    "y = y_train"
   ]
  },
  {
   "cell_type": "code",
   "execution_count": 45,
   "metadata": {},
   "outputs": [],
   "source": [
    "# producto dentro del parentesis\n",
    "x_prod = np.dot(np.transpose(x),x)"
   ]
  },
  {
   "cell_type": "code",
   "execution_count": 46,
   "metadata": {},
   "outputs": [],
   "source": [
    "# inversa o pseudoinversa\n",
    "x_inv = np.linalg.inv(x_prod)\n",
    "# x_inv = np.linalg.pinv(x_prod)"
   ]
  },
  {
   "cell_type": "code",
   "execution_count": 47,
   "metadata": {},
   "outputs": [],
   "source": [
    "x_comp = np.dot(x_inv,np.transpose(x))"
   ]
  },
  {
   "cell_type": "code",
   "execution_count": 48,
   "metadata": {},
   "outputs": [
    {
     "name": "stdout",
     "output_type": "stream",
     "text": [
      "[[-6.07270175e+00]\n",
      " [ 4.93664746e-03]\n",
      " [ 8.42529846e+00]\n",
      " [ 1.09892475e+00]]\n"
     ]
    }
   ],
   "source": [
    "theta = np.dot(x_comp, y)\n",
    "print(theta)"
   ]
  },
  {
   "cell_type": "code",
   "execution_count": 49,
   "metadata": {},
   "outputs": [],
   "source": [
    "y_hat_train = -6.072 + 0.00493 * x_train[:,0] + 8.425 * x_train[:,1] + 1.099 * x_train[:,2]\n",
    "y_hat_train = y_hat_train.reshape(275,1)"
   ]
  },
  {
   "cell_type": "code",
   "execution_count": 50,
   "metadata": {},
   "outputs": [],
   "source": [
    "y_hat_test = -6.072 + 0.00493 * x_test[:,0] + 8.425  * x_test[:,1] + 1.099 * x_test[:,2]\n",
    "y_hat_test = y_hat_test.reshape(33,1)"
   ]
  },
  {
   "cell_type": "code",
   "execution_count": 51,
   "metadata": {},
   "outputs": [
    {
     "name": "stdout",
     "output_type": "stream",
     "text": [
      "[0.22852423]\n"
     ]
    }
   ],
   "source": [
    "# MSE\n",
    "sum = 0\n",
    "for i in range(275):\n",
    "    sum = sum + (y_train[i, :] - y_hat_train[i, :]) ** 2\n",
    "\n",
    "mse_train = sum / 275\n",
    "\n",
    "print(mse_train)"
   ]
  },
  {
   "cell_type": "code",
   "execution_count": 52,
   "metadata": {},
   "outputs": [
    {
     "name": "stdout",
     "output_type": "stream",
     "text": [
      "[0.17392536]\n"
     ]
    }
   ],
   "source": [
    "sum = 0\n",
    "for i in range(33):\n",
    "    sum = sum + (y_test[i, :] - y_hat_test[i, :]) ** 2\n",
    "\n",
    "mse_test = sum / 33\n",
    "\n",
    "print(mse_test)"
   ]
  },
  {
   "cell_type": "code",
   "execution_count": 53,
   "metadata": {},
   "outputs": [
    {
     "name": "stdout",
     "output_type": "stream",
     "text": [
      "coef: 0.302\n",
      "Intercept: 2.734\n"
     ]
    }
   ],
   "source": [
    "from sklearn.linear_model import LinearRegression\n",
    "slr = LinearRegression()\n",
    "slr.fit(y_train, y_hat_train)\n",
    "print('coef: %.3f' % slr.coef_)\n",
    "print('Intercept: %.3f' % slr.intercept_)"
   ]
  },
  {
   "cell_type": "code",
   "execution_count": 54,
   "metadata": {},
   "outputs": [
    {
     "name": "stdout",
     "output_type": "stream",
     "text": [
      "coef: 0.302\n",
      "Intercept: 2.734\n"
     ]
    }
   ],
   "source": [
    "from sklearn.linear_model import LinearRegression\n",
    "slr = LinearRegression()\n",
    "slr.fit(y_train, y_hat_train)\n",
    "print('coef: %.3f' % slr.coef_)\n",
    "print('Intercept: %.3f' % slr.intercept_)"
   ]
  },
  {
   "cell_type": "code",
   "execution_count": 55,
   "metadata": {},
   "outputs": [
    {
     "name": "stdout",
     "output_type": "stream",
     "text": [
      "coef:  [[4.93664746e-03 8.42529846e+00 1.09892475e+00]]\n",
      "Intercept:  [-6.07270175]\n"
     ]
    }
   ],
   "source": [
    "from sklearn.linear_model import LinearRegression\n",
    "lr = LinearRegression()\n",
    "lr.fit(x_train,y_train)\n",
    "print('coef: ',lr.coef_)\n",
    "print('Intercept: ', lr.intercept_)"
   ]
  },
  {
   "cell_type": "code",
   "execution_count": 117,
   "metadata": {},
   "outputs": [
    {
     "data": {
      "text/plain": [
       "array([[ 0.10535016],\n",
       "       [-0.00895612],\n",
       "       [ 1.39456627],\n",
       "       [ 0.62706944]])"
      ]
     },
     "execution_count": 117,
     "metadata": {},
     "output_type": "execute_result"
    }
   ],
   "source": [
    "theta = np.random.randn(4,1) #y = m*x + b \n",
    "theta #theta parameter vector [m,b] which we are trying to optimize\n",
    "\n",
    "alpha = 0.01 #tweakable\n",
    "n_steps = 100 #tweakable\n",
    "m = 275 \n",
    "\n",
    "grads = []\n",
    "thetas = []\n",
    "\n",
    "for step in range(n_steps):\n",
    "  gradient = (2/m) * x.T.dot((x.dot(theta)-y_train))\n",
    "  theta = theta - alpha * gradient \n",
    "  grads.append(gradient)\n",
    "  thetas.append(theta)\n",
    "\n",
    "theta"
   ]
  }
 ],
 "metadata": {
  "interpreter": {
   "hash": "9a01dedde5444b3147c1da2779d3083172e642b8ea99a56cd9e478614bd26d80"
  },
  "kernelspec": {
   "display_name": "Python 3.9.7 ('venv': venv)",
   "language": "python",
   "name": "python3"
  },
  "language_info": {
   "codemirror_mode": {
    "name": "ipython",
    "version": 3
   },
   "file_extension": ".py",
   "mimetype": "text/x-python",
   "name": "python",
   "nbconvert_exporter": "python",
   "pygments_lexer": "ipython3",
   "version": "3.9.7"
  },
  "orig_nbformat": 4
 },
 "nbformat": 4,
 "nbformat_minor": 2
}
